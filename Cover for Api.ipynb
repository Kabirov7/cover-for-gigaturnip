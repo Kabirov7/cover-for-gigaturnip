{
 "cells": [
  {
   "cell_type": "code",
   "execution_count": 1,
   "id": "90db3e35",
   "metadata": {},
   "outputs": [],
   "source": [
    "import json\n",
    "from uuid import uuid4\n",
    "import requests"
   ]
  },
  {
   "cell_type": "code",
   "execution_count": 2,
   "id": "6b467771",
   "metadata": {
    "pycharm": {
     "name": "#%%\n"
    }
   },
   "outputs": [
    {
     "data": {
      "text/plain": [
       "'eyJhbGciOiJSUzI1NiIsImtpZCI6IjQwMTU0NmJkMWRhMzA0ZDc2NGNmZWUzYTJhZTVjZDBlNGY2ZjgyN2IiLCJ0eXAiOiJKV1QifQ.eyJuYW1lIjoiQXJ0dXIgS2FiaXJvdiIsInBpY3R1cmUiOiJodHRwczovL2xoMy5nb29nbGV1c2VyY29udGVudC5jb20vYS0vQU9oMTRHajRqQVB2aFB6TVhINC0yRnBTb2Z2MDhpaDZ6YVpRRUtOQUJpS2tuUT1zOTYtYyIsImlzcyI6Imh0dHBzOi8vc2VjdXJldG9rZW4uZ29vZ2xlLmNvbS9naWdhdHVybmlwLWI2YjViIiwiYXVkIjoiZ2lnYXR1cm5pcC1iNmI1YiIsImF1dGhfdGltZSI6MTY0MjU3NjA0MSwidXNlcl9pZCI6InpyYlhMdUxwbXBjYWhEbXJnMGtac3o0RlJibTIiLCJzdWIiOiJ6cmJYTHVMcG1wY2FoRG1yZzBrWnN6NEZSYm0yIiwiaWF0IjoxNjQyNTg1NDA1LCJleHAiOjE2NDI1ODkwMDUsImVtYWlsIjoiYXJ0dXJrYWJpcm92MTZAZ21haWwuY29tIiwiZW1haWxfdmVyaWZpZWQiOnRydWUsImZpcmViYXNlIjp7ImlkZW50aXRpZXMiOnsiZ29vZ2xlLmNvbSI6WyIxMTUzMzcxMzAxMzE1MjU0NDAzMjciXSwiZW1haWwiOlsiYXJ0dXJrYWJpcm92MTZAZ21haWwuY29tIl19LCJzaWduX2luX3Byb3ZpZGVyIjoiZ29vZ2xlLmNvbSJ9fQ.WhkxGrtMxtinxCNZlJQ_kQPr7fFlrn-2yYLBNyjZPJcOn-J0bYc0FnZ_tvYmULBqdJkBBYC33cRNHM_r0hcPtp5oNB_4nX2JbKuQqNufWbgoDEHgeb8kWaTALReRg3GQ3KU_-cm_wMW5NnFR8_5dgJzmBoT_g2Z8gCFKh51fZgBcNXUppwqeNQ9qJwYgkLmpDj1OxunCP9mZyb7Qcm8ZRqn1bkPoqD6_0_9iM0w_GzZ34_E1t6ITSY167kCfsBo41jCDTyK6We4ZKSo3CIPQjWRTyJMKAXJjHA9uQuWVy5UH6JBJjiF3OveceeFeuiOOl516pPfFLEB9-Jzpu0Iz5w'"
      ]
     },
     "execution_count": 2,
     "metadata": {},
     "output_type": "execute_result"
    }
   ],
   "source": [
    "from token111 import token\n",
    "token"
   ]
  },
  {
   "cell_type": "code",
   "execution_count": 3,
   "id": "8d20e6a7",
   "metadata": {},
   "outputs": [],
   "source": [
    "class Requests():\n",
    "\trest_api = \"http://127.0.0.1:8000/api/v1/\"\n",
    "\theaders = {\n",
    "\t\t\"Authorization\": f\"JWT {token}\"}\n",
    "\tid = None\n",
    "\tendpoint = None\n",
    "\tdata = None\n",
    "\n",
    "\tdef post_request(self, url, data):\n",
    "\t\tresponse = requests.post(self.rest_api + url, data=data, headers=self.headers)\n",
    "\t\tprint(response.status_code)\n",
    "\t\treturn response\n",
    "\n",
    "\tdef get_request(self, url, data=None):\n",
    "\t\tif not data:\n",
    "\t\t\tdata = ''\n",
    "\t\tresponse = requests.get(self.rest_api + url, data=data, headers=self.headers)\n",
    "\t\tprint(response.status_code)\n",
    "\t\treturn response\n",
    "\n",
    "\tdef patch_request(self, url, data):\n",
    "\t\tresponse = requests.patch(self.rest_api + url, data=data, headers=self.headers)\n",
    "\t\tprint(response.status_code)\n",
    "\t\treturn response\n",
    "\n",
    "\tdef delete_request(self, url):\n",
    "\t\tresponse = requests.delete(url)\n",
    "\t\tprint(response.status_code)\n",
    "\t\treturn response\n",
    "\n",
    "\tdef create_instance(self):\n",
    "\t\tself.set_data()\n",
    "\t\tresponse = json.loads(self.post_request(self.endpoint, data=self.data).content)\n",
    "\t\tself.id = response.get('id')\n",
    "\t\tself.get()\n",
    "\n",
    "\tdef update(self):\n",
    "\t\tself.set_data()\n",
    "\t\tresponse = json.loads(self.patch_request(f\"{self.endpoint}{self.id}/\", data=self.data).content)\n",
    "\t\tself.id = response.get('id')\n",
    "\t\tself.get()\n",
    "\n",
    "\tdef get(self):\n",
    "\t\tresponse = self.get_request(f\"{self.endpoint}{self.id}\")\n",
    "\t\tfor key in json.loads(response.content):\n",
    "\t\t\tsetattr(self, key, json.loads(response.content)[key])\n",
    "\t\treturn self\n",
    "\n",
    "\tdef get_all(self, params=''):\n",
    "\t\tresponse = self.get_request(self.endpoint, data=params)\n",
    "\t\treturn json.loads(response.content)['results']\n",
    "\n",
    "\tdef set_id(self, id):\n",
    "\t\tself.id = id\n",
    "\t\tself.get()\n",
    "\n",
    "\tdef set_data(self):\n",
    "\t\tdata = {}\n",
    "\t\tfor i in list(self.__dict__.items()):\n",
    "\t\t\tif i[0] not in [\"rest_api\", \"headers\", \"endpoint\", \"data\"]:\n",
    "\t\t\t\ti = list(i)\n",
    "\t\t\t\tif i[1].__class__.__module__ != 'builtins':\n",
    "\t\t\t\t\ti[1] = i[1].id\n",
    "\t\t\t\tdata[i[0]] = i[1]\n",
    "\t\tself.data = data\n",
    "\t\treturn data"
   ]
  },
  {
   "cell_type": "code",
   "execution_count": 4,
   "id": "517e3f93",
   "metadata": {
    "pycharm": {
     "name": "#%%\n"
    }
   },
   "outputs": [],
   "source": [
    "class BaseModel():\n",
    "\tdef __init__(self, name, description):\n",
    "\t\tself.name = name\n",
    "\t\tself.description = description\n",
    "\n",
    "\n",
    "class Campaign(BaseModel, Requests):\n",
    "\n",
    "\tdef __init__(self, name='', description='', managers=[]):\n",
    "\t\tself.managers = managers\n",
    "\t\tsuper().__init__(name, description)\n",
    "\t\tself.endpoint = 'campaigns/'\n",
    "\n",
    "\tdef create_new_chain(self, chain):\n",
    "\t\tchain.campaign = self\n",
    "\t\tchain.create_instance()\n",
    "\t\treturn chain\n",
    "\n",
    "\n",
    "class Chain(BaseModel, Requests):\n",
    "\tdef __init__(self, name='', description='', campaign=None):\n",
    "\t\tself.campaign = campaign\n",
    "\t\tself.endpoint = \"chains/\"\n",
    "\t\tsuper().__init__(name, description)\n",
    "\n",
    "\tdef create_init_stage(self):\n",
    "\t\tstage = TaskStage(self.id, \"Initial Task Stage\")\n",
    "\t\tstage.create_instance()\n",
    "\t\treturn stage\n",
    "\n",
    "\n",
    "class Stage(Requests):\n",
    "\n",
    "\tdef __init__(self, name, desc, chain, in_stages, x=1, y=1):\n",
    "\t\tself.chain = chain\n",
    "\t\tself.in_stages = in_stages\n",
    "\t\tself.name = name\n",
    "\t\tself.description = desc\n",
    "\t\tself.x_pos = x\n",
    "\t\tself.y_pos = y\n",
    "\n",
    "\tdef add_stage(self, stage):\n",
    "\t\tself.get()\n",
    "\t\tif stage.id not in self.in_stages:\n",
    "\t\t\tself.in_stages += [stage.id]\n",
    "\n",
    "\t\tdata = {\n",
    "\t\t\t\"id\": self.id,\n",
    "\t\t\t\"in_stages\": self.in_stages\n",
    "\t\t}\n",
    "\t\tresponse = self.patch_request(f\"{self.endpoint}{self.id}/\", data)\n",
    "\t\tif response.status_code != 200:\n",
    "\t\t\tself.get()\n",
    "\t\treturn stage\n",
    "\n",
    "\n",
    "class TaskStage(Stage, Requests):\n",
    "\tdef __init__(self, chain=None, name=\"Task Stage\", desc='', in_stages=[], rich_text=None,\n",
    "\t\t\t\t copy_input=False,\n",
    "\t\t\t\t allow_multiple_files=False,\n",
    "\t\t\t\t is_creatable=False,\n",
    "\t\t\t\t displayed_prev_stages=None,\n",
    "\t\t\t\t assign_user_by=\"RA\",\n",
    "\t\t\t\t assign_user_from_stage=None,\n",
    "\t\t\t\t allow_go_back=False,\n",
    "\t\t\t\t allow_release=False,\n",
    "\t\t\t\t is_public=False,\n",
    "\t\t\t\t webhook_address=None,\n",
    "\t\t\t\t webhook_payload_field=None,\n",
    "\t\t\t\t webhook_params=None,\n",
    "\t\t\t\t webhook_response_field=None):\n",
    "\t\tself.rich_text = rich_text\n",
    "\t\tself.copy_input = copy_input\n",
    "\t\tself.allow_multiple_files = allow_multiple_files\n",
    "\t\tself.is_creatable = is_creatable\n",
    "\t\tself.displayed_prev_stages = displayed_prev_stages\n",
    "\t\tself.assign_user_by = assign_user_by\n",
    "\t\tself.assign_user_from_stage = assign_user_from_stage\n",
    "\t\tself.allow_go_back = allow_go_back\n",
    "\t\tself.allow_release = allow_release\n",
    "\t\tself.is_public = is_public\n",
    "\t\tself.webhook_address = webhook_address\n",
    "\t\tself.webhook_payload_field = webhook_payload_field\n",
    "\t\tself.webhook_params = webhook_params\n",
    "\t\tself.webhook_response_field = webhook_response_field\n",
    "\t\tself.endpoint = \"taskstages/\"\n",
    "\t\tsuper().__init__(name, desc, chain, in_stages)\n",
    "\n",
    "\n",
    "class ConditionalStage(Stage, Requests):\n",
    "\tdef __init__(self, chain, name=\"Conditional Stage\", desc='', in_stages=[], conditions=None, pingpong=False):\n",
    "\t\tself.conditions = conditions\n",
    "\t\tself.pingpong = pingpong\n",
    "\t\tself.endpoint = \"conditionalstages/\"\n",
    "\t\tsuper().__init__(name, desc, chain, in_stages)\n",
    "\n",
    "\n",
    "class Rank(BaseModel):\n",
    "\n",
    "\tdef __init__(self, stages, track=None):\n",
    "\t\tself.stages = stages\n",
    "\t\tself.track = track\n",
    "\n",
    "\n",
    "class RankLimit():\n",
    "\n",
    "\tdef __init__(self, rank=Rank, stage=Stage, open_limit=0,\n",
    "\t\t\t\t total_limit=0,\n",
    "\t\t\t\t is_listing_allowed=False,\n",
    "\t\t\t\t is_submission_open=True,\n",
    "\t\t\t\t is_selection_open=True,\n",
    "\t\t\t\t is_creation_open=True):\n",
    "\t\tself.rank = rank\n",
    "\t\tself.stage = stage\n",
    "\t\tself.open_limit = open_limit\n",
    "\t\tself.total_limit = total_limit\n",
    "\t\tself.is_listing_allowed = is_listing_allowed\n",
    "\t\tself.is_submission_open = is_submission_open\n",
    "\t\tself.is_selection_open = is_selection_open\n",
    "\t\tself.is_creation_open = is_creation_open\n",
    "\n",
    "\n",
    "class RankRecord():\n",
    "\tdef __init__(self, user, rank=None):\n",
    "\t\tself.user = user\n",
    "\t\tself.rank = rank\n",
    "\n",
    "\n",
    "class Task():\n",
    "\n",
    "\tdef __init__(self, stage, assignee=None,\n",
    "\t\t\t\t case=None,\n",
    "\t\t\t\t responses=None,\n",
    "\t\t\t\t in_tasks=None,\n",
    "\t\t\t\t integrator_group=None,\n",
    "\t\t\t\t complete=False,\n",
    "\t\t\t\t force_complete=False,\n",
    "\t\t\t\t reopened=False):\n",
    "\t\tself.stage = stage\n",
    "\t\tself.assignee = assignee\n",
    "\t\tself.case = case\n",
    "\t\tself.responses = responses\n",
    "\t\tself.in_tasks = in_tasks\n",
    "\t\tself.integrator_group = integrator_group\n",
    "\t\tself.complete = complete\n",
    "\t\tself.force_complete = force_complete\n",
    "\t\tself.reopened = reopened\n",
    "\n",
    "\n",
    "class Track(BaseModel):\n",
    "\n",
    "\tdef __init__(self, campaign=Campaign):\n",
    "\t\tself.campaign = campaign\n",
    "\t\tself.default_rank = Rank\n",
    "\n"
   ]
  },
  {
   "cell_type": "code",
   "execution_count": 9,
   "id": "12fbf9cb",
   "metadata": {
    "pycharm": {
     "name": "#%%\n"
    }
   },
   "outputs": [
    {
     "name": "stdout",
     "output_type": "stream",
     "text": [
      "201\n",
      "200\n"
     ]
    },
    {
     "data": {
      "text/plain": [
       "{'managers': [],\n",
       " 'name': 'Coca cola campaign',\n",
       " 'description': '',\n",
       " 'endpoint': 'campaigns/',\n",
       " 'data': {'managers': [], 'name': 'Coca cola campaign', 'description': ''},\n",
       " 'id': 5,\n",
       " 'created_at': '2022-01-19T09:48:16.710440Z',\n",
       " 'updated_at': '2022-01-19T09:48:16.710478Z',\n",
       " 'open': False,\n",
       " 'default_track': None}"
      ]
     },
     "execution_count": 9,
     "metadata": {},
     "output_type": "execute_result"
    }
   ],
   "source": [
    "#After creating campaign u have to add user as a manager\n",
    "campaign = Campaign(name=\"Coca cola campaign\")\n",
    "campaign.create_instance()\n",
    "campaign.__dict__"
   ]
  },
  {
   "cell_type": "code",
   "execution_count": 17,
   "id": "2d2394bd",
   "metadata": {
    "pycharm": {
     "name": "#%%\n"
    },
    "scrolled": true
   },
   "outputs": [
    {
     "name": "stdout",
     "output_type": "stream",
     "text": [
      "201\n",
      "200\n",
      "201\n",
      "200\n"
     ]
    },
    {
     "data": {
      "text/plain": [
       "<__main__.TaskStage at 0x7fa1a71b7a50>"
      ]
     },
     "execution_count": 17,
     "metadata": {},
     "output_type": "execute_result"
    }
   ],
   "source": [
    "chain = Chain(name=\"Monday chain\", campaign=campaign)\n",
    "chain.create_instance()\n",
    "init_stage = chain.create_init_stage()\n",
    "init_stage.__dict__"
   ]
  },
  {
   "cell_type": "code",
   "execution_count": 18,
   "id": "b8094cd4",
   "metadata": {
    "pycharm": {
     "name": "#%%\n"
    }
   },
   "outputs": [
    {
     "name": "stdout",
     "output_type": "stream",
     "text": [
      "201\n",
      "200\n"
     ]
    },
    {
     "data": {
      "text/plain": [
       "{'rich_text': None,\n",
       " 'copy_input': False,\n",
       " 'allow_multiple_files': False,\n",
       " 'is_creatable': False,\n",
       " 'displayed_prev_stages': [],\n",
       " 'assign_user_by': 'RA',\n",
       " 'assign_user_from_stage': None,\n",
       " 'allow_go_back': False,\n",
       " 'allow_release': False,\n",
       " 'is_public': False,\n",
       " 'webhook_address': None,\n",
       " 'webhook_payload_field': None,\n",
       " 'webhook_params': None,\n",
       " 'webhook_response_field': None,\n",
       " 'endpoint': 'taskstages/',\n",
       " 'chain': {'id': 9, 'name': 'Monday chain', 'description': '', 'campaign': 6},\n",
       " 'in_stages': [],\n",
       " 'name': 'Middle task stage. Drink one bottle',\n",
       " 'description': '',\n",
       " 'x_pos': '1.000',\n",
       " 'y_pos': '1.000',\n",
       " 'data': {'rich_text': None,\n",
       "  'copy_input': False,\n",
       "  'allow_multiple_files': False,\n",
       "  'is_creatable': False,\n",
       "  'displayed_prev_stages': None,\n",
       "  'assign_user_by': 'RA',\n",
       "  'assign_user_from_stage': None,\n",
       "  'allow_go_back': False,\n",
       "  'allow_release': False,\n",
       "  'is_public': False,\n",
       "  'webhook_address': None,\n",
       "  'webhook_payload_field': None,\n",
       "  'webhook_params': None,\n",
       "  'webhook_response_field': None,\n",
       "  'chain': 9,\n",
       "  'in_stages': [],\n",
       "  'name': 'Middle task stage. Drink one bottle',\n",
       "  'description': '',\n",
       "  'x_pos': 1,\n",
       "  'y_pos': 1},\n",
       " 'id': 24,\n",
       " 'out_stages': [],\n",
       " 'json_schema': None,\n",
       " 'ui_schema': None,\n",
       " 'library': ''}"
      ]
     },
     "execution_count": 18,
     "metadata": {},
     "output_type": "execute_result"
    }
   ],
   "source": [
    "next_stage = TaskStage(chain, \"Middle task stage. Drink one bottle\")\n",
    "next_stage.create_instance()\n",
    "next_stage.__dict__"
   ]
  },
  {
   "cell_type": "code",
   "execution_count": 19,
   "id": "a20df8ee",
   "metadata": {
    "pycharm": {
     "name": "#%%\n"
    }
   },
   "outputs": [
    {
     "name": "stdout",
     "output_type": "stream",
     "text": [
      "201\n",
      "200\n"
     ]
    },
    {
     "data": {
      "text/plain": [
       "{'rich_text': None,\n",
       " 'copy_input': False,\n",
       " 'allow_multiple_files': False,\n",
       " 'is_creatable': False,\n",
       " 'displayed_prev_stages': [],\n",
       " 'assign_user_by': 'RA',\n",
       " 'assign_user_from_stage': None,\n",
       " 'allow_go_back': False,\n",
       " 'allow_release': False,\n",
       " 'is_public': False,\n",
       " 'webhook_address': None,\n",
       " 'webhook_payload_field': None,\n",
       " 'webhook_params': None,\n",
       " 'webhook_response_field': None,\n",
       " 'endpoint': 'taskstages/',\n",
       " 'chain': {'id': 9, 'name': 'Monday chain', 'description': '', 'campaign': 6},\n",
       " 'in_stages': [],\n",
       " 'name': 'Check equipment and pass it to the controller',\n",
       " 'description': '',\n",
       " 'x_pos': '1.000',\n",
       " 'y_pos': '1.000',\n",
       " 'data': {'rich_text': None,\n",
       "  'copy_input': False,\n",
       "  'allow_multiple_files': False,\n",
       "  'is_creatable': False,\n",
       "  'displayed_prev_stages': None,\n",
       "  'assign_user_by': 'RA',\n",
       "  'assign_user_from_stage': None,\n",
       "  'allow_go_back': False,\n",
       "  'allow_release': False,\n",
       "  'is_public': False,\n",
       "  'webhook_address': None,\n",
       "  'webhook_payload_field': None,\n",
       "  'webhook_params': None,\n",
       "  'webhook_response_field': None,\n",
       "  'chain': 9,\n",
       "  'in_stages': [],\n",
       "  'name': 'Check equipment and pass it to the controller',\n",
       "  'description': '',\n",
       "  'x_pos': 1,\n",
       "  'y_pos': 1},\n",
       " 'id': 25,\n",
       " 'out_stages': [],\n",
       " 'json_schema': None,\n",
       " 'ui_schema': None,\n",
       " 'library': ''}"
      ]
     },
     "execution_count": 19,
     "metadata": {},
     "output_type": "execute_result"
    }
   ],
   "source": [
    "closing_stage = TaskStage(chain, \"Check equipment and pass it to the controller\")\n",
    "closing_stage.create_instance()\n",
    "closing_stage.__dict__"
   ]
  },
  {
   "cell_type": "code",
   "execution_count": 20,
   "id": "e5e7eeec",
   "metadata": {
    "pycharm": {
     "name": "#%%\n"
    }
   },
   "outputs": [
    {
     "name": "stdout",
     "output_type": "stream",
     "text": [
      "200\n",
      "200\n",
      "200\n",
      "200\n"
     ]
    },
    {
     "data": {
      "text/plain": [
       "{'rich_text': None,\n",
       " 'copy_input': False,\n",
       " 'allow_multiple_files': False,\n",
       " 'is_creatable': False,\n",
       " 'displayed_prev_stages': [],\n",
       " 'assign_user_by': 'RA',\n",
       " 'assign_user_from_stage': None,\n",
       " 'allow_go_back': False,\n",
       " 'allow_release': False,\n",
       " 'is_public': False,\n",
       " 'webhook_address': None,\n",
       " 'webhook_payload_field': None,\n",
       " 'webhook_params': None,\n",
       " 'webhook_response_field': None,\n",
       " 'endpoint': 'taskstages/',\n",
       " 'chain': {'id': 9, 'name': 'Monday chain', 'description': '', 'campaign': 6},\n",
       " 'in_stages': [24],\n",
       " 'name': 'Initial Task Stage',\n",
       " 'description': '',\n",
       " 'x_pos': '1.000',\n",
       " 'y_pos': '1.000',\n",
       " 'data': {'rich_text': None,\n",
       "  'copy_input': False,\n",
       "  'allow_multiple_files': False,\n",
       "  'is_creatable': False,\n",
       "  'displayed_prev_stages': None,\n",
       "  'assign_user_by': 'RA',\n",
       "  'assign_user_from_stage': None,\n",
       "  'allow_go_back': False,\n",
       "  'allow_release': False,\n",
       "  'is_public': False,\n",
       "  'webhook_address': None,\n",
       "  'webhook_payload_field': None,\n",
       "  'webhook_params': None,\n",
       "  'webhook_response_field': None,\n",
       "  'chain': 9,\n",
       "  'in_stages': [],\n",
       "  'name': 'Initial Task Stage',\n",
       "  'description': '',\n",
       "  'x_pos': 1,\n",
       "  'y_pos': 1},\n",
       " 'id': 23,\n",
       " 'out_stages': [],\n",
       " 'json_schema': None,\n",
       " 'ui_schema': None,\n",
       " 'library': ''}"
      ]
     },
     "execution_count": 20,
     "metadata": {},
     "output_type": "execute_result"
    }
   ],
   "source": [
    "init_stage.add_stage(next_stage).add_stage(closing_stage)\n",
    "init_stage.__dict__"
   ]
  },
  {
   "cell_type": "code",
   "execution_count": 23,
   "id": "738824bd",
   "metadata": {},
   "outputs": [
    {
     "data": {
      "text/plain": [
       "[]"
      ]
     },
     "execution_count": 23,
     "metadata": {},
     "output_type": "execute_result"
    }
   ],
   "source": []
  },
  {
   "cell_type": "code",
   "execution_count": null,
   "id": "89966df1",
   "metadata": {},
   "outputs": [],
   "source": []
  }
 ],
 "metadata": {
  "kernelspec": {
   "display_name": "Python 3 (ipykernel)",
   "language": "python",
   "name": "python3"
  },
  "language_info": {
   "codemirror_mode": {
    "name": "ipython",
    "version": 3
   },
   "file_extension": ".py",
   "mimetype": "text/x-python",
   "name": "python",
   "nbconvert_exporter": "python",
   "pygments_lexer": "ipython3",
   "version": "3.7.9"
  }
 },
 "nbformat": 4,
 "nbformat_minor": 5
}